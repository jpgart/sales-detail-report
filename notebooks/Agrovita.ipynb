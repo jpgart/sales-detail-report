{
 "cells": [
  {
   "cell_type": "markdown",
   "id": "ed0e2087",
   "metadata": {},
   "source": [
    "# Agrovita Report\n"
   ]
  },
  {
   "cell_type": "code",
   "execution_count": null,
   "id": "c3e0708c",
   "metadata": {
    "vscode": {
     "languageId": "plaintext"
    }
   },
   "outputs": [],
   "source": [
    "# Este código está diseñado para ejecutarse en un notebook donde ya tienes el DataFrame procesado (por ejemplo, df o df_season).\n",
    "# Solo debes copiar y pegar este bloque en una celda del notebook, ajustando el nombre del DataFrame si es necesario.\n",
    "\n",
    "import pandas as pd\n",
    "import os\n",
    "\n",
    "# Si tu DataFrame procesado se llama distinto, reemplaza 'df' por el nombre correcto (por ejemplo, df_season)\n",
    "df_agrovita = df[df['Exporter Clean'] == 'Agrovita'].copy()\n",
    "agrovita_lotids = df_agrovita['Lotid'].unique().tolist()\n",
    "\n",
    "# 1. Initial Stock\n",
    "initial_stock = analyze_initial_stock_by_lotid(df)\n",
    "initial_stock = initial_stock[initial_stock['Lotid'].isin(agrovita_lotids)]\n",
    "\n",
    "# 2. Sales Detail\n",
    "sales_detail = analyze_sales_detail_by_lotid_and_exporter(df)\n",
    "sales_detail = sales_detail[sales_detail['Lotid'].isin(agrovita_lotids)]\n",
    "\n",
    "# 3. Inventory Movements\n",
    "inventory_movements = analyze_inventory_by_exporter_fifo(df)\n",
    "inventory_movements = inventory_movements[inventory_movements['Lotid'].isin(agrovita_lotids)]\n",
    "\n",
    "# 4. Inventory Summary by Lotid\n",
    "inventory_summary = inventory_movements.groupby('Lotid').agg(\n",
    "    Initial_Stock=('Initial Stock', lambda x: pd.to_numeric(x.str.replace(',', ''), errors='coerce').sum()),\n",
    "    Sales_Quantity=('Sale Quantity', lambda x: pd.to_numeric(x.str.replace(',', ''), errors='coerce').sum()),\n",
    "    Current_Inventory=('Current Inventory', lambda x: pd.to_numeric(x.str.replace(',', ''), errors='coerce').max())\n",
    ").reset_index()\n",
    "\n",
    "# 5. Deductions vs Initial Stock\n",
    "deductions_initial_stock = analyze_deductions_initial_stock(df)\n",
    "deductions_initial_stock = deductions_initial_stock[deductions_initial_stock['Lotid'].isin(agrovita_lotids)]\n",
    "\n",
    "# 6. Deductions vs Sales\n",
    "deductions_sales = analyze_deductions_exporter_view(df, sales_detail)\n",
    "deductions_sales = deductions_sales[deductions_sales['Lotid'].isin(agrovita_lotids)]\n",
    "\n",
    "# 7. Export all to Excel in the reports folder\n",
    "reports_dir = os.path.abspath(os.path.join(os.getcwd(), '..', 'reports'))\n",
    "os.makedirs(reports_dir, exist_ok=True)\n",
    "excel_path = os.path.join(reports_dir, 'Agrovita Report.xlsx')\n",
    "\n",
    "with pd.ExcelWriter(excel_path) as writer:\n",
    "    initial_stock.to_excel(writer, sheet_name='Initial Stock', index=False)\n",
    "    sales_detail.to_excel(writer, sheet_name='Sales Detail', index=False)\n",
    "    inventory_movements.to_excel(writer, sheet_name='Inventory Movements', index=False)\n",
    "    inventory_summary.to_excel(writer, sheet_name='Inventory Summary', index=False)\n",
    "    deductions_initial_stock.to_excel(writer, sheet_name='Deductions Initial Stock', index=False)\n",
    "    deductions_sales.to_excel(writer, sheet_name='Deductions Sales', index=False)\n",
    "\n",
    "print(f\"Report generated: {excel_path}\")"
   ]
  }
 ],
 "metadata": {
  "language_info": {
   "name": "python"
  }
 },
 "nbformat": 4,
 "nbformat_minor": 5
}
