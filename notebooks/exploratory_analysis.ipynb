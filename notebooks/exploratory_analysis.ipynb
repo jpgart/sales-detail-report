{
 "cells": [
  {
   "cell_type": "markdown",
   "metadata": {},
   "source": [
    "# Exploratory Data Analysis\n",
    "\n",
    "This notebook is dedicated to performing exploratory data analysis (EDA) on the sales data from the Famus Report. The goal is to understand the data structure, identify patterns, and uncover insights that can inform further analysis and reporting.\n",
    "\n",
    "## Objectives\n",
    "- Load the dataset\n",
    "- Perform initial data exploration\n",
    "- Visualize key metrics and trends\n",
    "- Identify any data quality issues\n",
    "\n",
    "## Setup\n",
    "Before running the analysis, ensure that the necessary libraries are installed and the environment is set up correctly."
   ]
  },
  {
   "cell_type": "code",
   "execution_count": null,
   "metadata": {
    "collapsed": false
   },
   "outputs": [],
   "source": [
    "# Import necessary libraries\n",
    "import pandas as pd\n",
    "import numpy as np\n",
    "import matplotlib.pyplot as plt\n",
    "import seaborn as sns\n",
    "\n",
    "# Set visualization style\n",
    "sns.set(style='whitegrid')\n",
    "\n",
    "# Load the dataset\n",
    "data_path = '../data/JP Famus Report Original 05.15.25 - FAMOUS LOT DETAIL REPORT SA GRAPES 24-25.csv'\n",
    "df = pd.read_csv(data_path, encoding='latin1')\n",
    "\n",
    "# Display the first few rows of the dataset\n",
    "df.head()"
   ]
  },
  {
   "cell_type": "markdown",
   "metadata": {},
   "source": [
    "## Data Exploration\n",
    "\n",
    "Let's explore the dataset to understand its structure and contents."
   ]
  },
  {
   "cell_type": "code",
   "execution_count": null,
   "metadata": {
    "collapsed": false
   },
   "outputs": [],
   "source": [
    "# Display basic information about the dataset\n",
    "df.info()\n",
    "\n",
    "# Describe the dataset to get statistical summaries\n",
    "df.describe(include='all')"
   ]
  },
  {
   "cell_type": "markdown",
   "metadata": {},
   "source": [
    "## Visualization\n",
    "\n",
    "Next, we will visualize key metrics to identify trends and patterns."
   ]
  },
  {
   "cell_type": "code",
   "execution_count": null,
   "metadata": {
    "collapsed": false
   },
   "outputs": [],
   "source": [
    "# Example visualization: Sales over time\n",
    "# Convert 'refdate' to datetime if necessary\n",
    "df['refdate'] = pd.to_datetime(df['refdate'], errors='coerce')\n",
    "\n",
    "# Group by date and sum sales\n",
    "sales_over_time = df.groupby('refdate')['saleamt'].sum().reset_index()\n",
    "\n",
    "# Plotting\n",
    "plt.figure(figsize=(12, 6))\n",
    "sns.lineplot(data=sales_over_time, x='refdate', y='saleamt')\n",
    "plt.title('Total Sales Over Time')\n",
    "plt.xlabel('Date')\n",
    "plt.ylabel('Total Sales Amount')\n",
    "plt.xticks(rotation=45)\n",
    "plt.tight_layout()\n",
    "plt.show()"
   ]
  },
  {
   "cell_type": "markdown",
   "metadata": {},
   "source": [
    "## Conclusion\n",
    "\n",
    "This notebook serves as a starting point for exploratory data analysis on the Famus Report dataset. Further analysis can be conducted based on the insights gained from this exploration."
   ]
  }
 ],
 "metadata": {
  "kernelspec": {
   "display_name": "Python 3",
   "language": "python",
   "name": "python3"
  },
  "language_info": {
   "codemirror_mode": {
    "name": "ipython",
    "version": 3
   },
   "file_extension": ".py",
   "mimetype": "text/x-python",
   "name": "python",
   "nbconvert_exporter": "python",
   "pygments_lexer": "ipython3",
   "version": "3.8.5"
  }
 },
 "nbformat": 4,
 "nbformat_minor": 4
}
